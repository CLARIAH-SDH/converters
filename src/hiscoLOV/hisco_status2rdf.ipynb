{
 "cells": [
  {
   "cell_type": "code",
   "execution_count": 1,
   "metadata": {
    "collapsed": false
   },
   "outputs": [
    {
     "name": "stdout",
     "output_type": "stream",
     "text": [
      "@prefix hisco: <http://qber.data2semantics.org/vocab/ocs/hisco/> .\n",
      "@prefix rdf: <http://www.w3.org/1999/02/22-rdf-syntax-ns#> .\n",
      "@prefix rdfs: <http://www.w3.org/2000/01/rdf-schema#> .\n",
      "@prefix skos: <http://www.w3.org/2004/02/skos/core#> .\n",
      "@prefix status: <http://qber.data2semantics.org/vocab/ocs/hisco/status/> .\n",
      "@prefix xml: <http://www.w3.org/XML/1998/namespace> .\n",
      "@prefix xsd: <http://www.w3.org/2001/XMLSchema#> .\n",
      "\n",
      "<http://qber.data2semantics.org/vocab/ocs/hisco/status/11> a skos:Concept ;\n",
      "    skos:inScheme hisco:STATUS ;\n",
      "    skos:prefLabel \"Owner, proprietor\"@en .\n",
      "\n",
      "<http://qber.data2semantics.org/vocab/ocs/hisco/status/12> a skos:Concept ;\n",
      "    skos:inScheme hisco:STATUS ;\n",
      "    skos:prefLabel \"Lease-holder, share-cropper\"@en .\n",
      "\n",
      "<http://qber.data2semantics.org/vocab/ocs/hisco/status/13> a skos:Concept ;\n",
      "    skos:inScheme hisco:STATUS ;\n",
      "    skos:prefLabel \"Poor\"@en .\n",
      "\n",
      "<http://qber.data2semantics.org/vocab/ocs/hisco/status/21> a skos:Concept ;\n",
      "    skos:inScheme hisco:STATUS ;\n",
      "    skos:prefLabel \"Master\"@en .\n",
      "\n",
      "<http://qber.data2semantics.org/vocab/ocs/hisco/status/22> a skos:Concept ;\n",
      "    skos:inScheme hisco:STATUS ;\n",
      "    skos:prefLabel \"Journeyman\"@en .\n",
      "\n",
      "<http://qber.data2semantics.org/vocab/ocs/hisco/status/23> a skos:Concept ;\n",
      "    skos:inScheme hisco:STATUS ;\n",
      "    skos:prefLabel \"Apprentice, learner\"@en .\n",
      "\n",
      "<http://qber.data2semantics.org/vocab/ocs/hisco/status/24> a skos:Concept ;\n",
      "    skos:inScheme hisco:STATUS ;\n",
      "    skos:prefLabel \"Artisan\"@en .\n",
      "\n",
      "<http://qber.data2semantics.org/vocab/ocs/hisco/status/31> a skos:Concept ;\n",
      "    skos:inScheme hisco:STATUS ;\n",
      "    skos:prefLabel \"Principal\"@en .\n",
      "\n",
      "<http://qber.data2semantics.org/vocab/ocs/hisco/status/32> a skos:Concept ;\n",
      "    skos:inScheme hisco:STATUS ;\n",
      "    skos:prefLabel \"'Worker'\"@en .\n",
      "\n",
      "<http://qber.data2semantics.org/vocab/ocs/hisco/status/33> a skos:Concept ;\n",
      "    skos:inScheme hisco:STATUS ;\n",
      "    skos:prefLabel \"Subordinate\"@en .\n",
      "\n",
      "<http://qber.data2semantics.org/vocab/ocs/hisco/status/34> a skos:Concept ;\n",
      "    skos:inScheme hisco:STATUS ;\n",
      "    skos:prefLabel \"Serfs and Slaves\"@en .\n",
      "\n",
      "<http://qber.data2semantics.org/vocab/ocs/hisco/status/41> a skos:Concept ;\n",
      "    skos:inScheme hisco:STATUS ;\n",
      "    skos:prefLabel \"Student\"@en .\n",
      "\n",
      "<http://qber.data2semantics.org/vocab/ocs/hisco/status/42> a skos:Concept ;\n",
      "    skos:inScheme hisco:STATUS ;\n",
      "    skos:prefLabel \"Graduate\"@en .\n",
      "\n",
      "<http://qber.data2semantics.org/vocab/ocs/hisco/status/51> a skos:Concept ;\n",
      "    skos:inScheme hisco:STATUS ;\n",
      "    skos:prefLabel \"Nobility\"@en .\n",
      "\n",
      "<http://qber.data2semantics.org/vocab/ocs/hisco/status/52> a skos:Concept ;\n",
      "    skos:inScheme hisco:STATUS ;\n",
      "    skos:prefLabel \"Prestige titles\"@en .\n",
      "\n",
      "hisco:STATUS a skos:Scheme ;\n",
      "    rdfs:label \"STATUS\" .\n",
      "\n",
      "\n"
     ]
    }
   ],
   "source": [
    "from rdflib import Graph, Namespace, RDF, Literal, RDFS\n",
    "import csv, os\n",
    "\n",
    "g = Graph()\n",
    "\n",
    "HISCO = Namespace('http://qber.data2semantics.org/vocab/ocs/hisco/')\n",
    "STATUS  = Namespace('http://qber.data2semantics.org/vocab/ocs/hisco/status/')\n",
    "SKOS  = Namespace('http://www.w3.org/2004/02/skos/core#')\n",
    "\n",
    "variable_name = 'STATUS'\n",
    "g.add((HISCO[variable_name], RDF.type, SKOS['Scheme']))\n",
    "g.add((HISCO[variable_name], RDFS.label, Literal('STATUS')))\n",
    "\n",
    "g.bind('hisco', HISCO)\n",
    "g.bind('status', STATUS)\n",
    "g.bind('skos', SKOS)\n",
    "\n",
    "default_path = \"/Users/RichardZ/Dropbox/II/projects/clariah/sdh/basecamp/Files/Files attached directly to project/Files attached directly to project (1)/\"\n",
    "os.chdir(default_path)\n",
    "hdf = open('./data2rdf/hisco/status.csv')\n",
    "hisco = csv.reader(hdf)\n",
    "\n",
    "next(hisco)\n",
    "\n",
    "for row in hisco:\n",
    "    hisco_status = row[0]\n",
    "    hisco_status_label = row[1]\n",
    "\n",
    "    g.add((STATUS[hisco_status], RDF.type, SKOS['Concept']))\n",
    "    g.add((STATUS[hisco_status], SKOS['inScheme'], HISCO[variable_name]))\n",
    "    g.add((STATUS[hisco_status], SKOS['prefLabel'], Literal(hisco_status_label,'en')))\n",
    "\n",
    "print g.serialize(format='turtle')\n",
    "\n",
    "with open('./rdf/hisco/hisco_status.ttl','w') as out:\n",
    "    g.serialize(out, format='turtle')\n"
   ]
  },
  {
   "cell_type": "code",
   "execution_count": null,
   "metadata": {
    "collapsed": true
   },
   "outputs": [],
   "source": []
  },
  {
   "cell_type": "code",
   "execution_count": null,
   "metadata": {
    "collapsed": true
   },
   "outputs": [],
   "source": []
  }
 ],
 "metadata": {
  "kernelspec": {
   "display_name": "Python 2",
   "language": "python",
   "name": "python2"
  },
  "language_info": {
   "codemirror_mode": {
    "name": "ipython",
    "version": 2
   },
   "file_extension": ".py",
   "mimetype": "text/x-python",
   "name": "python",
   "nbconvert_exporter": "python",
   "pygments_lexer": "ipython2",
   "version": "2.7.9"
  }
 },
 "nbformat": 4,
 "nbformat_minor": 0
}
