{
 "cells": [
  {
   "cell_type": "code",
   "execution_count": 1,
   "metadata": {
    "collapsed": false
   },
   "outputs": [
    {
     "name": "stdout",
     "output_type": "stream",
     "text": [
      "@prefix hisco: <http://data.socialhistory.org/vocab/hisco/> .\n",
      "@prefix product: <http://data.socialhistory.org/vocab/hisco/product/> .\n",
      "@prefix rdf: <http://www.w3.org/1999/02/22-rdf-syntax-ns#> .\n",
      "@prefix rdfs: <http://www.w3.org/2000/01/rdf-schema#> .\n",
      "@prefix skos: <http://www.w3.org/2004/02/skos/core#> .\n",
      "@prefix xml: <http://www.w3.org/XML/1998/namespace> .\n",
      "@prefix xsd: <http://www.w3.org/2001/XMLSchema#> .\n",
      "\n",
      "<http://data.socialhistory.org/vocab/hisco/product/0> a skos:Concept ;\n",
      "    skos:inScheme hisco:hiscoScheme ;\n",
      "    skos:member hisco:productCollection ;\n",
      "    skos:prefLabel \"Agriculture, Forestry and Fishery products\"@en .\n",
      "\n",
      "<http://data.socialhistory.org/vocab/hisco/product/1> a skos:Concept ;\n",
      "    skos:inScheme hisco:hiscoScheme ;\n",
      "    skos:member hisco:productCollection ;\n",
      "    skos:prefLabel \"Ores and Minerals; Electricity, Gas and Water\"@en .\n",
      "\n",
      "<http://data.socialhistory.org/vocab/hisco/product/2> a skos:Concept ;\n",
      "    skos:inScheme hisco:hiscoScheme ;\n",
      "    skos:member hisco:productCollection ;\n",
      "    skos:prefLabel \"Food productsl Beverages and Tobacco; Textiles; Apparel and Leather products\"@en .\n",
      "\n",
      "<http://data.socialhistory.org/vocab/hisco/product/3> a skos:Concept ;\n",
      "    skos:inScheme hisco:hiscoScheme ;\n",
      "    skos:member hisco:productCollection ;\n",
      "    skos:prefLabel \"Other transportable goods - except Metal products, Machinery and Equipment\"@en .\n",
      "\n",
      "<http://data.socialhistory.org/vocab/hisco/product/4> a skos:Concept ;\n",
      "    skos:inScheme hisco:hiscoScheme ;\n",
      "    skos:member hisco:productCollection ;\n",
      "    skos:prefLabel \"Metal products, Machinery and Equipment\"@en .\n",
      "\n",
      "<http://data.socialhistory.org/vocab/hisco/product/5> a skos:Concept ;\n",
      "    skos:inScheme hisco:hiscoScheme ;\n",
      "    skos:member hisco:productCollection ;\n",
      "    skos:prefLabel \"Intangible Assets; Land; Constructions; Construction services\"@en .\n",
      "\n",
      "product:productCollection a skos:Collection ;\n",
      "    rdfs:label \"PRODUCT\" ;\n",
      "    skos:definition \"PRODUCT is a subsidiary classification designed to reduce the loss of information caused by ISCO68's failure in some cases (especially in relation to major group 4) to accomodate information on products traded by those in particular occupational categories.\" .\n",
      "\n",
      "\n"
     ]
    }
   ],
   "source": [
    "from rdflib import Graph, Namespace, RDF, Literal, RDFS\n",
    "import csv, os\n",
    "\n",
    "g = Graph()\n",
    "\n",
    "HISCO = Namespace('http://data.socialhistory.org/vocab/hisco/')\n",
    "PRODUCT = Namespace('http://data.socialhistory.org/vocab/hisco/product/')\n",
    "SKOS  = Namespace('http://www.w3.org/2004/02/skos/core#')\n",
    "\n",
    "variable_name = 'productCollection'\n",
    "g.add((PRODUCT[variable_name], RDF.type, SKOS['Collection']))\n",
    "g.add((PRODUCT[variable_name], RDFS.label, Literal('PRODUCT')))\n",
    "g.add((PRODUCT[variable_name], SKOS.definition, Literal('PRODUCT is a subsidiary classification designed to reduce the loss '+\n",
    "                                                            'of information caused by ISCO68\\'s failure in some cases ' +\n",
    "                                                            '(especially in relation to major group 4) to accomodate ' + \n",
    "                                                            'information on products traded by those in particular occupational '+\n",
    "                                                            'categories.')))\n",
    "\n",
    "g.bind('hisco', HISCO)\n",
    "g.bind('product', PRODUCT)\n",
    "g.bind('skos', SKOS)\n",
    "\n",
    "default_path = \"/Users/RichardZ/Dropbox/II/projects/clariah/sdh/basecamp/Files/Files attached directly to project/Files attached directly to project (1)/\"\n",
    "os.chdir(default_path)\n",
    "hdf = open('./data2rdf/hisco/product.csv')\n",
    "hisco = csv.reader(hdf)\n",
    "\n",
    "next(hisco)\n",
    "\n",
    "for row in hisco:\n",
    "    hisco_product = row[0]\n",
    "    hisco_product_label = row[1]\n",
    "\n",
    "    g.add((PRODUCT[hisco_product], RDF.type, SKOS['Concept']))\n",
    "    g.add((PRODUCT[hisco_product], SKOS['inScheme'], HISCO['hiscoScheme']))\n",
    "    g.add((PRODUCT[hisco_product], SKOS['member'], HISCO[variable_name]))  \n",
    "    g.add((PRODUCT[hisco_product], SKOS['prefLabel'], Literal(hisco_product_label,'en')))\n",
    "    \n",
    "print g.serialize(format='turtle')\n",
    "\n",
    "with open('./rdf/hisco/hisco_product.ttl','w') as out:\n",
    "    g.serialize(out, format='turtle')\n",
    "\n",
    "\n"
   ]
  },
  {
   "cell_type": "code",
   "execution_count": null,
   "metadata": {
    "collapsed": true
   },
   "outputs": [],
   "source": []
  },
  {
   "cell_type": "code",
   "execution_count": null,
   "metadata": {
    "collapsed": true
   },
   "outputs": [],
   "source": []
  }
 ],
 "metadata": {
  "kernelspec": {
   "display_name": "Python 2",
   "language": "python",
   "name": "python2"
  },
  "language_info": {
   "codemirror_mode": {
    "name": "ipython",
    "version": 2
   },
   "file_extension": ".py",
   "mimetype": "text/x-python",
   "name": "python",
   "nbconvert_exporter": "python",
   "pygments_lexer": "ipython2",
   "version": "2.7.9"
  }
 },
 "nbformat": 4,
 "nbformat_minor": 0
}
