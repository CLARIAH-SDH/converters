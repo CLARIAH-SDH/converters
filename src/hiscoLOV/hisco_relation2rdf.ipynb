{
 "cells": [
  {
   "cell_type": "code",
   "execution_count": 1,
   "metadata": {
    "collapsed": false
   },
   "outputs": [
    {
     "name": "stdout",
     "output_type": "stream",
     "text": [
      "@prefix hisco: <http://qber.data2semantics.org/vocab/ocs/hisco/> .\n",
      "@prefix rdf: <http://www.w3.org/1999/02/22-rdf-syntax-ns#> .\n",
      "@prefix rdfs: <http://www.w3.org/2000/01/rdf-schema#> .\n",
      "@prefix relation: <http://qber.data2semantics.org/vocab/ocs/hisco/relation/> .\n",
      "@prefix skos: <http://www.w3.org/2004/02/skos/core#> .\n",
      "@prefix xml: <http://www.w3.org/XML/1998/namespace> .\n",
      "@prefix xsd: <http://www.w3.org/2001/XMLSchema#> .\n",
      "\n",
      "<http://qber.data2semantics.org/vocab/ocs/hisco/relation/11> a skos:Concept ;\n",
      "    skos:inScheme hisco:RELATION ;\n",
      "    skos:prefLabel \"Wife or widow\"@en .\n",
      "\n",
      "<http://qber.data2semantics.org/vocab/ocs/hisco/relation/12> a skos:Concept ;\n",
      "    skos:inScheme hisco:RELATION ;\n",
      "    skos:prefLabel \"Son\"@en .\n",
      "\n",
      "<http://qber.data2semantics.org/vocab/ocs/hisco/relation/13> a skos:Concept ;\n",
      "    skos:inScheme hisco:RELATION ;\n",
      "    skos:prefLabel \"Daughter\"@en .\n",
      "\n",
      "<http://qber.data2semantics.org/vocab/ocs/hisco/relation/14> a skos:Concept ;\n",
      "    skos:inScheme hisco:RELATION ;\n",
      "    skos:prefLabel \"Other male relative\"@en .\n",
      "\n",
      "<http://qber.data2semantics.org/vocab/ocs/hisco/relation/15> a skos:Concept ;\n",
      "    skos:inScheme hisco:RELATION ;\n",
      "    skos:prefLabel \"Other female relative\"@en .\n",
      "\n",
      "<http://qber.data2semantics.org/vocab/ocs/hisco/relation/21> a skos:Concept ;\n",
      "    skos:inScheme hisco:RELATION ;\n",
      "    skos:prefLabel \"Former or retired\"@en .\n",
      "\n",
      "<http://qber.data2semantics.org/vocab/ocs/hisco/relation/22> a skos:Concept ;\n",
      "    skos:inScheme hisco:RELATION ;\n",
      "    skos:prefLabel \"Future\"@en .\n",
      "\n",
      "<http://qber.data2semantics.org/vocab/ocs/hisco/relation/31> a skos:Concept ;\n",
      "    skos:inScheme hisco:RELATION ;\n",
      "    skos:prefLabel \"Voluntary, honorary\"@en .\n",
      "\n",
      "<http://qber.data2semantics.org/vocab/ocs/hisco/relation/41> a skos:Concept ;\n",
      "    skos:inScheme hisco:RELATION ;\n",
      "    skos:prefLabel \"Physical or mental disability\"@en .\n",
      "\n",
      "<http://qber.data2semantics.org/vocab/ocs/hisco/relation/51> a skos:Concept ;\n",
      "    skos:inScheme hisco:RELATION ;\n",
      "    skos:prefLabel \"Homeworker\"@en .\n",
      "\n",
      "hisco:RELATION a skos:Scheme ;\n",
      "    rdfs:label \"RELATION\" .\n",
      "\n",
      "\n"
     ]
    }
   ],
   "source": [
    "from rdflib import Graph, Namespace, RDF, Literal, RDFS\n",
    "import csv, os\n",
    "\n",
    "g = Graph()\n",
    "\n",
    "HISCO = Namespace('http://qber.data2semantics.org/vocab/ocs/hisco/')\n",
    "RELATION  = Namespace('http://qber.data2semantics.org/vocab/ocs/hisco/relation/')\n",
    "SKOS  = Namespace('http://www.w3.org/2004/02/skos/core#')\n",
    "\n",
    "variable_name = 'RELATION'\n",
    "g.add((HISCO[variable_name], RDF.type, SKOS['Scheme']))\n",
    "g.add((HISCO[variable_name], RDFS.label, Literal('RELATION')))\n",
    "\n",
    "g.bind('hisco', HISCO)\n",
    "g.bind('relation', RELATION)\n",
    "g.bind('skos', SKOS)\n",
    "\n",
    "default_path = \"/Users/RichardZ/Dropbox/II/projects/clariah/sdh/basecamp/Files/Files attached directly to project/Files attached directly to project (1)/\"\n",
    "os.chdir(default_path)\n",
    "hdf = open('./data2rdf/hisco/relation.csv')\n",
    "hisco = csv.reader(hdf)\n",
    "\n",
    "next(hisco)\n",
    "\n",
    "for row in hisco:\n",
    "    hisco_relation = row[0]\n",
    "    hisco_relation_label = row[1]\n",
    "\n",
    "    g.add((RELATION[hisco_relation], RDF.type, SKOS['Concept']))\n",
    "    g.add((RELATION[hisco_relation], SKOS['inScheme'], HISCO[variable_name]))\n",
    "    g.add((RELATION[hisco_relation], SKOS['prefLabel'], Literal(hisco_relation_label,'en')))\n",
    "\n",
    "print g.serialize(format='turtle')\n",
    "\n",
    "with open('./rdf/hisco/hisco_relation.ttl','w') as out:\n",
    "    g.serialize(out, format='turtle')\n",
    "\n"
   ]
  },
  {
   "cell_type": "code",
   "execution_count": null,
   "metadata": {
    "collapsed": true
   },
   "outputs": [],
   "source": []
  }
 ],
 "metadata": {
  "kernelspec": {
   "display_name": "Python 2",
   "language": "python",
   "name": "python2"
  },
  "language_info": {
   "codemirror_mode": {
    "name": "ipython",
    "version": 2
   },
   "file_extension": ".py",
   "mimetype": "text/x-python",
   "name": "python",
   "nbconvert_exporter": "python",
   "pygments_lexer": "ipython2",
   "version": "2.7.9"
  }
 },
 "nbformat": 4,
 "nbformat_minor": 0
}
