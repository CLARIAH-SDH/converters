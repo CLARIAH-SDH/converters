{
 "cells": [
  {
   "cell_type": "code",
   "execution_count": 1,
   "metadata": {
    "collapsed": false
   },
   "outputs": [
    {
     "name": "stdout",
     "output_type": "stream",
     "text": [
      "@prefix dc: <http://purl.org/dc/elements/1.1/> .\n",
      "@prefix dcterms: <http://purl.org/dc/terms/> .\n",
      "@prefix fabio: <http://purl.org/spar/fabio/> .\n",
      "@prefix foaf: <http://xmlns.com/foaf/0.1/> .\n",
      "@prefix hisco: <http://data.socialhistory.org/vocab/hisco/> .\n",
      "@prefix hsrc: <http://data.socialhistory.org/vocab/hisco/resource/> .\n",
      "@prefix prov: <http://www.w3.org/ns/prov/> .\n",
      "@prefix rdf: <http://www.w3.org/1999/02/22-rdf-syntax-ns#> .\n",
      "@prefix rdfs: <http://www.w3.org/2000/01/rdf-schema#> .\n",
      "@prefix skos: <http://www.w3.org/2004/02/skos/core#> .\n",
      "@prefix xml: <http://www.w3.org/XML/1998/namespace> .\n",
      "@prefix xsd: <http://www.w3.org/2001/XMLSchema#> .\n",
      "\n",
      "hisco:hiscoScheme a skos:ConceptScheme,\n",
      "        prov:Entity ;\n",
      "    dcterms:title \"Historical International Standard Classification of Occupations\"@en ;\n",
      "    prov:wasAttributedTo <http://data.socialhistory.org/staff/csdh/rlzijdeman> ;\n",
      "    prov:wasDerivedFrom hsrc:hiscoBook,\n",
      "        hsrc:hiscoWebsite .\n",
      "\n",
      "hsrc:hisco2rdf_01 a prov:Activity ;\n",
      "    prov:endedAtTime \"2015-12-08T16:03:57+02:00\"^^xsd:dateTime ;\n",
      "    prov:generated \"./rdf/hisco/hisco_hisco.ttl\" ;\n",
      "    prov:startedAtTime \"2015-06-10T12:05:00+02:00\"^^xsd:dateTime .\n",
      "\n",
      "<http://data.socialhistory.org/staff/csdh/rlzijdeman> a prov:Agent,\n",
      "        prov:Person,\n",
      "        foaf:Agent,\n",
      "        foaf:Person ;\n",
      "    rdf:ID \"http://isni.org/isni/000000010711579X\",\n",
      "        \"http://orcid.org/0000-0003-0782-2704\",\n",
      "        \"info:eu-repo/dai/nl/304832960\" ;\n",
      "    foaf:familyName \"Zijdeman\" ;\n",
      "    foaf:givenName \"Richard\" ;\n",
      "    foaf:mbox \"mailto:richard.zijdeman@iisg.nl\" .\n",
      "\n",
      "hsrc:hiscoBook a fabio:Book ;\n",
      "    fabio:has_ISBN \"9789058671967\" .\n",
      "\n",
      "hsrc:hiscoWebsite a fabio:Website ;\n",
      "    rdf:about \"http://historyofwork.iisg.nl\" .\n",
      "\n",
      "\n"
     ]
    }
   ],
   "source": [
    "from rdflib import Graph, Namespace, RDF, Literal, RDFS, XSD\n",
    "import csv, datetime, os\n",
    "\n",
    "g = Graph()\n",
    "\n",
    "HISCO   = Namespace('http://data.socialhistory.org/vocab/hisco/')\n",
    "HSRC    = Namespace('http://data.socialhistory.org/vocab/hisco/resource/')\n",
    "STAFF   = Namespace('http://data.socialhistory.org/staff/csdh/')\n",
    "SKOS    = Namespace('http://www.w3.org/2004/02/skos/core#')\n",
    "PROV    = Namespace('http://www.w3.org/ns/prov/')\n",
    "DC      = Namespace('http://purl.org/dc/elements/1.1/')\n",
    "DCTERMS = Namespace('http://purl.org/dc/terms/')\n",
    "FABIO   = Namespace('http://purl.org/spar/fabio/')\n",
    "FOAF    = Namespace('http://xmlns.com/foaf/0.1/')\n",
    "\n",
    "default_path = \"/Users/RichardZ/Dropbox/II/projects/clariah/sdh/basecamp/Files/Files attached directly to project/Files attached directly to project (1)/\"\n",
    "os.chdir(default_path)\n",
    "\n",
    "g.bind('hisco', HISCO)\n",
    "g.bind('hsrc', HSRC)\n",
    "g.bind('skos', SKOS)\n",
    "g.bind('prov', PROV)\n",
    "g.bind('dc', DC)\n",
    "g.bind('dcterms', DCTERMS)\n",
    "g.bind('fabio', FABIO)\n",
    "g.bind('foaf', FOAF)\n",
    "\n",
    "g.add((HISCO['hiscoScheme'], RDF.type, SKOS['ConceptScheme']))\n",
    "g.add((HISCO['hiscoScheme'], RDF.type, PROV['Entity']))\n",
    "g.add((HISCO['hiscoScheme'], PROV.wasAttributedTo, STAFF['rlzijdeman']))\n",
    "g.add((HISCO['hiscoScheme'], DCTERMS.title, Literal('Historical International Standard Classification of Occupations', 'en')))\n",
    "g.add((HISCO['hiscoScheme'], PROV.wasDerivedFrom, HSRC['hiscoBook']))\n",
    "g.add((HISCO['hiscoScheme'], PROV.wasDerivedFrom, HSRC['hiscoWebsite']))\n",
    "g.add((HSRC['hiscoBook'], RDF.type, FABIO['Book']))\n",
    "g.add((HSRC['hiscoBook'], FABIO.has_ISBN, Literal('9789058671967')))\n",
    "g.add((HSRC['hiscoWebsite'], RDF.type, FABIO['Website']))\n",
    "g.add((HSRC['hiscoWebsite'], RDF.about, Literal('http://historyofwork.iisg.nl')))\n",
    "\n",
    "g.add((STAFF['rlzijdeman'], RDF.ID, Literal('http://orcid.org/0000-0003-0782-2704')))\n",
    "g.add((STAFF['rlzijdeman'], RDF.ID, Literal('info:eu-repo/dai/nl/304832960')))\n",
    "g.add((STAFF['rlzijdeman'], RDF.ID, Literal('http://isni.org/isni/000000010711579X')))\n",
    "\n",
    "g.add((STAFF['rlzijdeman'], RDF.type, PROV['Person']))\n",
    "g.add((STAFF['rlzijdeman'], RDF.type, PROV['Agent']))\n",
    "g.add((STAFF['rlzijdeman'], RDF.type, FOAF['Person']))\n",
    "g.add((STAFF['rlzijdeman'], RDF.type, FOAF['Agent']))\n",
    "g.add((STAFF['rlzijdeman'], FOAF.givenName, Literal('Richard')))\n",
    "g.add((STAFF['rlzijdeman'], FOAF.familyName, Literal('Zijdeman')))\n",
    "g.add((STAFF['rlzijdeman'], FOAF.mbox, Literal('mailto:richard.zijdeman@iisg.nl')))\n",
    "\n",
    "g.add((HSRC['hisco2rdf_01'], RDF.type, PROV.Activity))\n",
    "g.add((HSRC['hisco2rdf_01'], PROV.startedAtTime, Literal('2015-06-10T12:05:00+02:00', datatype = XSD.dateTime)))\n",
    "g.add((HSRC['hisco2rdf_01'], PROV.endedAtTime, \n",
    "       Literal(datetime.datetime.strftime(datetime.datetime.now(), '%Y-%m-%dT%H:%M:%S+02:00'),datatype = XSD.dateTime)))\n",
    "fileout = './rdf/hisco/hisco_hisco.ttl'\n",
    "g.add((HSRC['hisco2rdf_01'], PROV.generated, Literal(fileout)))\n",
    "\n",
    "print g.serialize(format='turtle')\n",
    "\n",
    "with open(fileout,'w') as out:\n",
    "    g.serialize(out, format='turtle')"
   ]
  },
  {
   "cell_type": "code",
   "execution_count": null,
   "metadata": {
    "collapsed": true
   },
   "outputs": [],
   "source": []
  },
  {
   "cell_type": "code",
   "execution_count": null,
   "metadata": {
    "collapsed": true
   },
   "outputs": [],
   "source": []
  }
 ],
 "metadata": {
  "kernelspec": {
   "display_name": "Python 2",
   "language": "python",
   "name": "python2"
  },
  "language_info": {
   "codemirror_mode": {
    "name": "ipython",
    "version": 2
   },
   "file_extension": ".py",
   "mimetype": "text/x-python",
   "name": "python",
   "nbconvert_exporter": "python",
   "pygments_lexer": "ipython2",
   "version": "2.7.9"
  }
 },
 "nbformat": 4,
 "nbformat_minor": 0
}
